{
 "cells": [
  {
   "cell_type": "code",
   "execution_count": 1,
   "id": "94c5ceb8-a8e4-41b1-af89-0953f37e8e76",
   "metadata": {},
   "outputs": [],
   "source": [
    "from uk_covid19 import Cov19API\n",
    "import pandas as pd\n",
    "import matplotlib.pyplot as plt\n",
    "import json\n",
    "from IPython.display import clear_output\n",
    "import ipywidgets as wdg\n",
    "import pandas as pd"
   ]
  },
  {
   "cell_type": "code",
   "execution_count": 2,
   "id": "fbdcb813-c3d2-473e-85fa-b3ac2cc8a287",
   "metadata": {},
   "outputs": [],
   "source": [
    "%matplotlib inline\n",
    "plt.rcParams['figure.dpi'] = 100"
   ]
  },
  {
   "cell_type": "code",
   "execution_count": 3,
   "id": "a724ac85-17ae-4145-b926-14877ba8afa8",
   "metadata": {},
   "outputs": [],
   "source": [
    "filters = [\n",
    "    'areaType=nation', \n",
    "    'areaName=England'\n",
    "]\n",
    "structure = {\n",
    "    \"date\": \"date\",\n",
    "    \"reinfections\": \"newReinfectionsBySpecimenDateRollingRate\",\n",
    "    \"firstepisodes\": \"newFirstEpisodesBySpecimenDateRollingRate\",\n",
    "    \"cases\": \"cumCasesByPublishDateRate\" \n",
    "}\n",
    "api = Cov19API(filters=filters, structure=structure) \n",
    "timeclassification=api.get_json() \n",
    "\n",
    "with open(\"timeclassification.json\", \"wt\") as OUTF:\n",
    "    json.dump(timeclassification, OUTF) "
   ]
  },
  {
   "cell_type": "code",
   "execution_count": 4,
   "id": "1868c83d-77c5-473d-ad87-a469fe2f90c5",
   "metadata": {},
   "outputs": [],
   "source": [
    "with open(\"timeclassification.json\", \"rt\") as INFILE:\n",
    "    data=json.load(INFILE)\n",
    "datalist=data['data']\n",
    "dates=[dictionary['date'] for dictionary in datalist ]\n",
    "dates.sort()\n",
    "def parse_date(datestring):\n",
    "    return pd.to_datetime(datestring, format=\"%Y-%m-%d\")\n",
    "startdate=parse_date(dates[0])\n",
    "enddate=parse_date(dates[-1])\n",
    "index=pd.date_range(startdate, enddate, freq='D')\n",
    "timeclassification=pd.DataFrame(index=index, columns=['reinfections', 'firstepisodes','cases'])\n",
    "\n",
    "    ################################################################################   \n",
    "for entry in datalist: \n",
    "    date=parse_date(entry['date'])\n",
    "    for column in ['reinfections', 'firstepisodes','cases']:\n",
    "        if pd.isna(timeclassification.loc[date, column]): \n",
    "            value= float(entry[column]) if entry[column]!=None else 0.0\n",
    "            timeclassification.loc[date, column]=value\n",
    "            \n",
    "timeclassification.fillna(0.0, inplace=True) \n",
    "timeclassification.to_pickle(\"timeclassificationdf.pkl\")\n",
    "timeclassificationdf=pd.read_pickle(\"timeclassificationdf.pkl\")"
   ]
  },
  {
   "cell_type": "code",
   "execution_count": 11,
   "id": "59dc8f3a-4137-4495-84b6-1b35abdc375b",
   "metadata": {},
   "outputs": [],
   "source": [
    "def wrangle_data(rawdata):\n",
    "    with open(\"timeclassification.json\", \"rt\") as INFILE:\n",
    "        data=json.load(INFILE)\n",
    "    datalist=data['data']\n",
    "    dates=[dictionary['date'] for dictionary in datalist ]\n",
    "    dates.sort()\n",
    "    def parse_date(datestring):\n",
    "        return pd.to_datetime(datestring, format=\"%Y-%m-%d\")\n",
    "    startdate=parse_date(dates[0])\n",
    "    enddate=parse_date(dates[-1])\n",
    "    index=pd.date_range(startdate, enddate, freq='D')\n",
    "    timeclassification=pd.DataFrame(index=index, columns=['reinfections', 'firstepisodes','cases'])\n",
    "\n",
    "    ################################################################################   \n",
    "    for entry in datalist: \n",
    "        date=parse_date(entry['date'])\n",
    "        for column in ['reinfections', 'firstepisodes','cases']:\n",
    "            if pd.isna(timeclassification.loc[date, column]): \n",
    "                value= float(entry[column]) if entry[column]!=None else 0.0\n",
    "                timeclassification.loc[date, column]=value\n",
    "            \n",
    "    timeclassification.fillna(0.0, inplace=True)\n",
    "    timeclassification.to_pickle(\"timeclassificationdf.pkl\")\n",
    "    timeclassificationdf=pd.read_pickle(\"timeclassificationdf.pkl\")\n",
    "    \n",
    "    return timeclassificationdf"
   ]
  },
  {
   "cell_type": "code",
   "execution_count": 13,
   "id": "79e83e06-363b-4c22-8a65-8a1cc95081e8",
   "metadata": {},
   "outputs": [
    {
     "data": {
      "application/vnd.jupyter.widget-view+json": {
       "model_id": "990ee1ac52da4830b871244dc8505809",
       "version_major": 2,
       "version_minor": 0
      },
      "text/plain": [
       "HBox(children=(SelectMultiple(description='Stats:', index=(0, 1, 2), options=('reinfections', 'firstepisodes',…"
      ]
     },
     "metadata": {},
     "output_type": "display_data"
    },
    {
     "data": {
      "application/vnd.jupyter.widget-view+json": {
       "model_id": "b4a0e03ccc1640fb9764224c1dace4f1",
       "version_major": 2,
       "version_minor": 0
      },
      "text/plain": [
       "Output()"
      ]
     },
     "metadata": {},
     "output_type": "display_data"
    }
   ],
   "source": [
    "def plot_tcs(gcols, gscale):\n",
    "    timeclassificationdf[list(gcols)].plot(logy=(gscale=='log'))\n",
    "    plt.show() \n",
    "################################################################################    \n",
    "series=wdg.SelectMultiple(\n",
    "    options=['reinfections', 'firstepisodes','cases'],\n",
    "    value=['reinfections', 'firstepisodes','cases'],\n",
    "    rows=3,\n",
    "    description='Stats:',\n",
    "    disabled=False\n",
    ")\n",
    "\n",
    "scale=wdg.RadioButtons(\n",
    "    options=['linear', 'log'],\n",
    "    description='Scale:',\n",
    "    disabled=False\n",
    ")\n",
    "\n",
    "controls=wdg.HBox([series, scale])\n",
    "#################################################################################\n",
    "def refresh_graph():\n",
    "    current=series.value\n",
    "    if current==(series.options[0],):\n",
    "        other=(series.options[1],)\n",
    "    else:\n",
    "        other=(series.options[0],)\n",
    "    series.value=other \n",
    "    series.value=current \n",
    "        \n",
    "graph=wdg.interactive_output(plot_tcs, {'gcols': series, 'gscale': scale})\n",
    "\n",
    "display(controls, graph)"
   ]
  },
  {
   "cell_type": "code",
   "execution_count": 12,
   "id": "d8ce08e7-ce9e-4a5e-982a-f3ebac76300e",
   "metadata": {},
   "outputs": [
    {
     "data": {
      "application/vnd.jupyter.widget-view+json": {
       "model_id": "ba6bb9b954e44fabba410938f6d9a95f",
       "version_major": 2,
       "version_minor": 0
      },
      "text/plain": [
       "Button(description='Refresh data', icon='download', style=ButtonStyle(), tooltip='Click to download current Pu…"
      ]
     },
     "metadata": {},
     "output_type": "display_data"
    }
   ],
   "source": [
    "def access_api(button):\n",
    "    filters = [\n",
    "    'areaType=nation', \n",
    "    'areaName=England'\n",
    "    ]\n",
    "    structure = {\n",
    "    \"date\": \"date\",\n",
    "    \"reinfections\": \"newReinfectionsBySpecimenDateRollingRate\",\n",
    "    \"firstepisodes\": \"newFirstEpisodesBySpecimenDateRollingRate\",\n",
    "    \"cases\": \"cumCasesByPublishDateRate\" \n",
    "    }\n",
    "    api = Cov19API(filters=filters, structure=structure) \n",
    "    timeclassification=api.get_json() \n",
    "\n",
    "    with open(\"timeclassification.json\", \"wt\") as OUTF:\n",
    "        json.dump(timeclassification, OUTF)\n",
    "    return timeclassification\n",
    "    \n",
    "def api_button_callback(button):\n",
    "    apidata=access_api(button)\n",
    "    global timeclassificationdf\n",
    "    timeclassificationdf=wrangle_data(apidata)\n",
    "    refresh_graph()\n",
    "    \n",
    "    apibutton.icon=\"check\"\n",
    "    apibutton.disabled=True\n",
    "\n",
    "apibutton=wdg.Button(\n",
    "    description='Refresh data',\n",
    "    disabled=False,\n",
    "    button_style='', # 'success', 'info', 'warning', 'danger' or ''\n",
    "    tooltip='Click to download current Public Health England data',\n",
    "    icon='download' # (FontAwesome names without the `fa-` prefix)\n",
    ")\n",
    "\n",
    "apibutton.on_click(api_button_callback)\n",
    "\n",
    "display(apibutton)"
   ]
  }
 ],
 "metadata": {
  "kernelspec": {
   "display_name": "Python 3 (ipykernel)",
   "language": "python",
   "name": "python3"
  },
  "language_info": {
   "codemirror_mode": {
    "name": "ipython",
    "version": 3
   },
   "file_extension": ".py",
   "mimetype": "text/x-python",
   "name": "python",
   "nbconvert_exporter": "python",
   "pygments_lexer": "ipython3",
   "version": "3.10.13"
  }
 },
 "nbformat": 4,
 "nbformat_minor": 5
}
