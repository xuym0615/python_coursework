{
 "cells": [
  {
   "cell_type": "markdown",
   "id": "3d59221e-7931-472f-9b95-fecf156ccf85",
   "metadata": {},
   "source": [
    "DIY Covid-19 Dashboard\n",
    "\n",
    "The chart compares the number of first-time infections with reinfections and shows the changes in the total number of epidemic cases.\r\n",
    "\r\n",
    "Reinfections: Displays data on COVID-19 reinfections over time. It refers to the number of cases where individuals were infected with COVID-19 and then got infected agai.\r\n",
    "\r\n",
    "First Episodes: Shows the number of first-time COVID-19 infections over time. This reflects the trend and fluctuation in new infection caes.\r\n",
    "\r\n",
    "Cumulative Cases (Cases): Presents the cumulative number of confirmed cases since the start of the epidemic. This shows the overall case burden and the severity of the epidemic."
   ]
  },
  {
   "cell_type": "code",
   "execution_count": 5,
   "id": "94c5ceb8-a8e4-41b1-af89-0953f37e8e76",
   "metadata": {},
   "outputs": [],
   "source": [
    "from uk_covid19 import Cov19API\n",
    "import pandas as pd\n",
    "import matplotlib.pyplot as plt\n",
    "import json\n",
    "from IPython.display import clear_output\n",
    "import ipywidgets as wdg\n",
    "import pandas as pd\n",
    "%matplotlib inline\n",
    "plt.rcParams['figure.dpi'] = 100\n",
    "with open(\"timeclassification.json\", \"rt\") as INFILE:\n",
    "    data=json.load(INFILE)\n",
    "datalist=data['data']\n",
    "dates=[dictionary['date'] for dictionary in datalist ]\n",
    "dates.sort()\n",
    "def parse_date(datestring):\n",
    "    return pd.to_datetime(datestring, format=\"%Y-%m-%d\")\n",
    "startdate=parse_date(dates[0])\n",
    "enddate=parse_date(dates[-1])\n",
    "index=pd.date_range(startdate, enddate, freq='D')\n",
    "timeclassificationdf=pd.DataFrame(index=index, columns=['reinfections', 'firstepisodes','cases'])\n",
    "\n",
    "    ################################################################################   \n",
    "for entry in datalist: \n",
    "    date=parse_date(entry['date'])\n",
    "    for column in ['reinfections', 'firstepisodes','cases']:\n",
    "        if pd.isna(timeclassificationdf.loc[date, column]): \n",
    "            value= float(entry[column]) if entry[column]!=None else .0\n",
    "            timeclassificationdf.loc[date, column]=value\n",
    "            \n",
    "timeclassificationdf.fillna(0.0, inplace=True) \n",
    "timeclassificationdf.to_pickle(\"timeclassificationdf.pkl\")"
   ]
  },
  {
   "cell_type": "code",
   "execution_count": 9,
   "id": "59dc8f3a-4137-4495-84b6-1b35abdc375b",
   "metadata": {},
   "outputs": [],
   "source": [
    "def wrangle_data(rawdata):\n",
    "    with open(\"timeclassification.json\", \"rt\") as INFILE:\n",
    "        data=json.load(INFILE)\n",
    "    datalist=data['data']\n",
    "    dates=[dictionary['date'] for dictionary in datalist ]\n",
    "    dates.sort()\n",
    "    def parse_date(datestring):\n",
    "        return pd.to_datetime(datestring, format=\"%Y-%m-%d\")\n",
    "    startdate=parse_date(dates[0])\n",
    "    enddate=parse_date(dates[-1])\n",
    "    index=pd.date_range(startdate, enddate, freq='D')\n",
    "    timeclassification=pd.DataFrame(index=index, columns=['reinfections', 'firstepisodes','cases'])\n",
    "\n",
    "    ################################################################################   \n",
    "    for entry in datalist: \n",
    "        date=parse_date(entry['date'])\n",
    "        for column in ['reinfections', 'firstepisodes','cases']:\n",
    "            if pd.isna(timeclassificationdf.loc[date, column]): \n",
    "                value= float(entry[column]) if entry[column]!=None else 0.0\n",
    "                timeclassificationdf.loc[date, column]=value\n",
    "            \n",
    "    timeclassificationdf.fillna(0.0, inplace=True)\n",
    "    timeclassificationdf.to_pickle(\"timeclassificationdf.pkl\")\n",
    "\n",
    "    \n",
    "    return timeclassificationdf"
   ]
  },
  {
   "cell_type": "code",
   "execution_count": 7,
   "id": "79e83e06-363b-4c22-8a65-8a1cc95081e8",
   "metadata": {},
   "outputs": [
    {
     "data": {
      "application/vnd.jupyter.widget-view+json": {
       "model_id": "b75bd1d748f94d5d9eabdd2c35c94958",
       "version_major": 2,
       "version_minor": 0
      },
      "text/plain": [
       "HBox(children=(SelectMultiple(description='Stats:', index=(0, 1, 2), options=('reinfections', 'firstepisodes',…"
      ]
     },
     "metadata": {},
     "output_type": "display_data"
    },
    {
     "data": {
      "application/vnd.jupyter.widget-view+json": {
       "model_id": "1e67097fc0284410ab073af3e550d31f",
       "version_major": 2,
       "version_minor": 0
      },
      "text/plain": [
       "Output()"
      ]
     },
     "metadata": {},
     "output_type": "display_data"
    }
   ],
   "source": [
    "def plot_tcs(gcols, gscale):\n",
    "    timeclassificationdf[list(gcols)].plot(logy=(gscale=='log'))\n",
    "    plt.show() \n",
    "################################################################################    \n",
    "series=wdg.SelectMultiple(\n",
    "    options=['reinfections', 'firstepisodes','cases'],\n",
    "    value=['reinfections', 'firstepisodes','cases'],\n",
    "    rows=3,\n",
    "    description='Stats:',\n",
    "    disabled=False\n",
    ")\n",
    "\n",
    "scale=wdg.RadioButtons(\n",
    "    options=['linear', 'log'],\n",
    "    description='Scale:',\n",
    "    disabled=False\n",
    ")\n",
    "\n",
    "controls=wdg.HBox([series, scale])\n",
    "#################################################################################\n",
    "def refresh_graph():\n",
    "    current=series.value\n",
    "    if current==(series.options[0],):\n",
    "        other=(series.options[1],)\n",
    "    else:\n",
    "        other=(series.options[0],)\n",
    "    series.value=other \n",
    "    series.value=current \n",
    "        \n",
    "graph=wdg.interactive_output(plot_tcs, {'gcols': series, 'gscale': scale})\n",
    "\n",
    "display(controls, graph)"
   ]
  },
  {
   "cell_type": "code",
   "execution_count": 8,
   "id": "d8ce08e7-ce9e-4a5e-982a-f3ebac76300e",
   "metadata": {},
   "outputs": [
    {
     "data": {
      "application/vnd.jupyter.widget-view+json": {
       "model_id": "4a92d77d4bd94d69a77d0c3f2eae5580",
       "version_major": 2,
       "version_minor": 0
      },
      "text/plain": [
       "Button(description='Refresh data', icon='download', style=ButtonStyle(), tooltip='Click to download current Pu…"
      ]
     },
     "metadata": {},
     "output_type": "display_data"
    }
   ],
   "source": [
    "def access_api(button):\n",
    "    filters = [\n",
    "    'areaType=nation', \n",
    "    'areaName=England'\n",
    "    ]\n",
    "    structure = {\n",
    "    \"date\": \"date\",\n",
    "    \"reinfections\": \"newReinfectionsBySpecimenDateRollingRate\",\n",
    "    \"firstepisodes\": \"newFirstEpisodesBySpecimenDateRollingRate\",\n",
    "    \"cases\": \"cumCasesByPublishDateRate\" \n",
    "    }\n",
    "    api = Cov19API(filters=filters, structure=structure) \n",
    "    timeclassification=api.get_json() \n",
    "\n",
    "    with open(\"timeclassification.json\", \"wt\") as OUTF:\n",
    "        json.dump(timeclassification, OUTF)\n",
    "    return timeclassification\n",
    "    \n",
    "def api_button_callback(button):\n",
    "    apidata=access_api(button)\n",
    "    global timeclassificationdf\n",
    "    timeclassificationdf=wrangle_data(apidata)\n",
    "    refresh_graph()\n",
    "    \n",
    "    apibutton.icon=\"check\"\n",
    "    apibutton.disabled=True\n",
    "\n",
    "apibutton=wdg.Button(\n",
    "    description='Refresh data',\n",
    "    disabled=False,\n",
    "    button_style='', \n",
    "    tooltip='Click to download current Public Health England data',\n",
    "    icon='download' \n",
    ")\n",
    "\n",
    "apibutton.on_click(api_button_callback)\n",
    "\n",
    "display(apibutton)"
   ]
  },
  {
   "cell_type": "markdown",
   "id": "fd642861-9d48-4d33-8f3e-3ddc4bd0866f",
   "metadata": {},
   "source": [
    "**Author and Copyright Notice**  Sources: Based on UK Government [data](https://coronavirus.data.gov.uk/) published by [Public Health England](https://www.gov.uk/government/organisations/public-health-england) and on the [DIY Covid Dashboard Kit](https://github.com/fsmeraldi/diy-covid19dash), Copyright (C) Fabrizio Smeraldi 2020,2023. Released under the [GNU GPLv3.0 or later](https://www.gnu.org/licenses/)."
   ]
  }
 ],
 "metadata": {
  "kernelspec": {
   "display_name": "Python 3 (ipykernel)",
   "language": "python",
   "name": "python3"
  },
  "language_info": {
   "codemirror_mode": {
    "name": "ipython",
    "version": 3
   },
   "file_extension": ".py",
   "mimetype": "text/x-python",
   "name": "python",
   "nbconvert_exporter": "python",
   "pygments_lexer": "ipython3",
   "version": "3.10.13"
  }
 },
 "nbformat": 4,
 "nbformat_minor": 5
}
